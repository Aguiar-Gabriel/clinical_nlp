{
 "cells": [
  {
   "cell_type": "code",
   "execution_count": 182,
   "id": "02ff1c65",
   "metadata": {},
   "outputs": [],
   "source": [
    "import pandas as pd"
   ]
  },
  {
   "cell_type": "markdown",
   "id": "53fd2780",
   "metadata": {},
   "source": [
    "# Importando relatorio de frequencia"
   ]
  },
  {
   "cell_type": "code",
   "execution_count": 183,
   "id": "38f5f5f0",
   "metadata": {},
   "outputs": [],
   "source": [
    "relatorio_frequencia = pd.read_csv('relatorio_de_frequencia.csv', sep=';', encoding='latin-1')\n"
   ]
  },
  {
   "cell_type": "code",
   "execution_count": 184,
   "id": "6cd361a3",
   "metadata": {},
   "outputs": [
    {
     "name": "stdout",
     "output_type": "stream",
     "text": [
      "<class 'pandas.core.frame.DataFrame'>\n",
      "RangeIndex: 10163 entries, 0 to 10162\n",
      "Data columns (total 8 columns):\n",
      " #   Column            Non-Null Count  Dtype \n",
      "---  ------            --------------  ----- \n",
      " 0   Paciente          10163 non-null  object\n",
      " 1   Criacao do plano  10163 non-null  object\n",
      " 2   Procedimento      10163 non-null  object\n",
      " 3   Status            10163 non-null  object\n",
      " 4   Sessoes           10163 non-null  int64 \n",
      " 5   Realizadas        10163 non-null  int64 \n",
      " 6   Restantes         10163 non-null  int64 \n",
      " 7   Orcamento         10163 non-null  int64 \n",
      "dtypes: int64(4), object(4)\n",
      "memory usage: 635.3+ KB\n"
     ]
    }
   ],
   "source": [
    "relatorio_frequencia.info()"
   ]
  },
  {
   "cell_type": "code",
   "execution_count": null,
   "id": "c14ce729",
   "metadata": {},
   "outputs": [],
   "source": [
    "relatorio_frequencia.head()"
   ]
  },
  {
   "cell_type": "code",
   "execution_count": null,
   "id": "32a9c5a2",
   "metadata": {},
   "outputs": [],
   "source": [
    "relatorio_frequencia.describe()"
   ]
  },
  {
   "cell_type": "markdown",
   "id": "1d559ecd",
   "metadata": {},
   "source": [
    "Parece que você carregou com sucesso um DataFrame no pandas. O DataFrame possui 8638 entradas e 8 colunas. Aqui está uma breve descrição das colunas:\n",
    "\n",
    "-   **Paciente**: Nome do paciente.\n",
    "-   **Criacao do plano**: Data em que o plano foi criado.\n",
    "-   **Procedimento**: Descrição do procedimento.\n",
    "-   **Status**: Status do procedimento (por exemplo, \"Aguardando\" ou \"Realizado\").\n",
    "-   **Sessoes**: Número total de sessões planejadas para o procedimento.\n",
    "-   **Realizadas**: Número de sessões já realizadas do procedimento.\n",
    "-   **Restantes**: Número de sessões restantes para o procedimento.\n",
    "-   **Orcamento**: Valor do orçamento para o procedimento."
   ]
  },
  {
   "cell_type": "markdown",
   "id": "aab8a408",
   "metadata": {},
   "source": [
    "# Importando relatório de precos_tabelados"
   ]
  },
  {
   "cell_type": "code",
   "execution_count": 187,
   "id": "f73f429f",
   "metadata": {},
   "outputs": [],
   "source": [
    "precos_tabelados=pd.read_csv('precos_tabelados_2.csv', sep=';', encoding='latin-1')"
   ]
  },
  {
   "cell_type": "code",
   "execution_count": 188,
   "id": "80b1eb74",
   "metadata": {},
   "outputs": [
    {
     "name": "stdout",
     "output_type": "stream",
     "text": [
      "<class 'pandas.core.frame.DataFrame'>\n",
      "RangeIndex: 238 entries, 0 to 237\n",
      "Data columns (total 5 columns):\n",
      " #   Column            Non-Null Count  Dtype  \n",
      "---  ------            --------------  -----  \n",
      " 0   Procedimento      238 non-null    object \n",
      " 1   Via de aplicação  238 non-null    object \n",
      " 2   Composição        238 non-null    float64\n",
      " 3   Honorários        238 non-null    float64\n",
      " 4   Valor             238 non-null    float64\n",
      "dtypes: float64(3), object(2)\n",
      "memory usage: 9.4+ KB\n"
     ]
    }
   ],
   "source": [
    "precos_tabelados.info()"
   ]
  },
  {
   "cell_type": "code",
   "execution_count": null,
   "id": "eb7ec0df",
   "metadata": {},
   "outputs": [],
   "source": [
    "precos_tabelados.head()"
   ]
  },
  {
   "cell_type": "code",
   "execution_count": 190,
   "id": "d8d327ea",
   "metadata": {
    "scrolled": true
   },
   "outputs": [
    {
     "data": {
      "text/html": [
       "<div>\n",
       "<style scoped>\n",
       "    .dataframe tbody tr th:only-of-type {\n",
       "        vertical-align: middle;\n",
       "    }\n",
       "\n",
       "    .dataframe tbody tr th {\n",
       "        vertical-align: top;\n",
       "    }\n",
       "\n",
       "    .dataframe thead th {\n",
       "        text-align: right;\n",
       "    }\n",
       "</style>\n",
       "<table border=\"1\" class=\"dataframe\">\n",
       "  <thead>\n",
       "    <tr style=\"text-align: right;\">\n",
       "      <th></th>\n",
       "      <th>Composição</th>\n",
       "      <th>Honorários</th>\n",
       "      <th>Valor</th>\n",
       "    </tr>\n",
       "  </thead>\n",
       "  <tbody>\n",
       "    <tr>\n",
       "      <th>count</th>\n",
       "      <td>238.000000</td>\n",
       "      <td>238.000000</td>\n",
       "      <td>238.000000</td>\n",
       "    </tr>\n",
       "    <tr>\n",
       "      <th>mean</th>\n",
       "      <td>105.735756</td>\n",
       "      <td>1256.744706</td>\n",
       "      <td>1362.480462</td>\n",
       "    </tr>\n",
       "    <tr>\n",
       "      <th>std</th>\n",
       "      <td>327.551806</td>\n",
       "      <td>2789.106312</td>\n",
       "      <td>2815.462371</td>\n",
       "    </tr>\n",
       "    <tr>\n",
       "      <th>min</th>\n",
       "      <td>0.000000</td>\n",
       "      <td>0.000000</td>\n",
       "      <td>0.000000</td>\n",
       "    </tr>\n",
       "    <tr>\n",
       "      <th>25%</th>\n",
       "      <td>0.000000</td>\n",
       "      <td>209.617500</td>\n",
       "      <td>279.985000</td>\n",
       "    </tr>\n",
       "    <tr>\n",
       "      <th>50%</th>\n",
       "      <td>24.200000</td>\n",
       "      <td>336.060000</td>\n",
       "      <td>442.990000</td>\n",
       "    </tr>\n",
       "    <tr>\n",
       "      <th>75%</th>\n",
       "      <td>103.892500</td>\n",
       "      <td>456.660000</td>\n",
       "      <td>577.842500</td>\n",
       "    </tr>\n",
       "    <tr>\n",
       "      <th>max</th>\n",
       "      <td>4050.000000</td>\n",
       "      <td>20000.000000</td>\n",
       "      <td>20000.000000</td>\n",
       "    </tr>\n",
       "  </tbody>\n",
       "</table>\n",
       "</div>"
      ],
      "text/plain": [
       "        Composição    Honorários         Valor\n",
       "count   238.000000    238.000000    238.000000\n",
       "mean    105.735756   1256.744706   1362.480462\n",
       "std     327.551806   2789.106312   2815.462371\n",
       "min       0.000000      0.000000      0.000000\n",
       "25%       0.000000    209.617500    279.985000\n",
       "50%      24.200000    336.060000    442.990000\n",
       "75%     103.892500    456.660000    577.842500\n",
       "max    4050.000000  20000.000000  20000.000000"
      ]
     },
     "execution_count": 190,
     "metadata": {},
     "output_type": "execute_result"
    }
   ],
   "source": [
    "precos_tabelados.describe()"
   ]
  },
  {
   "cell_type": "markdown",
   "id": "00cc9eaf",
   "metadata": {},
   "source": [
    "# Fazendo merge para procedimentos normalizados em maiúsculo."
   ]
  },
  {
   "cell_type": "code",
   "execution_count": 191,
   "id": "2219cb12",
   "metadata": {},
   "outputs": [],
   "source": [
    "relatorio_frequencia['Procedimento']=relatorio_frequencia['Procedimento'].str.upper()\n",
    "precos_tabelados['Procedimento']=precos_tabelados['Procedimento'].str.upper()\n",
    "\n",
    "frequencia_precos=pd.merge(relatorio_frequencia, precos_tabelados, how='left', on='Procedimento')"
   ]
  },
  {
   "cell_type": "markdown",
   "id": "82e9654b",
   "metadata": {},
   "source": [
    "# Observando procedimentos ausentes"
   ]
  },
  {
   "cell_type": "code",
   "execution_count": null,
   "id": "59c14c14",
   "metadata": {},
   "outputs": [],
   "source": [
    "# Lista de procedimentos presentes na tabela 'frequencia_precos'\n",
    "procedimentos_frequencia = frequencia_precos['Procedimento'].unique()\n",
    "\n",
    "# Lista de procedimentos presentes na tabela 'precos_tabelados'\n",
    "procedimentos_tabelados = precos_tabelados['Procedimento'].unique()\n",
    "\n",
    "# Filtrar os procedimentos que estão em 'frequencia_precos', mas não em 'precos_tabelados'\n",
    "procedimentos_ausentes = [procedimento for procedimento in procedimentos_frequencia if procedimento not in procedimentos_tabelados]\n",
    "\n",
    "# Exibir os procedimentos ausentes\n",
    "print(procedimentos_ausentes)\n"
   ]
  },
  {
   "cell_type": "markdown",
   "id": "a4e06888",
   "metadata": {},
   "source": [
    "# Fazendo associação para valores nulos e em seguida fazendo join com fuzzywuzzy"
   ]
  },
  {
   "cell_type": "code",
   "execution_count": null,
   "id": "80aa75c8",
   "metadata": {},
   "outputs": [],
   "source": [
    "from fuzzywuzzy import fuzz\n",
    "\n",
    "# List de procedimentos presentes na tabela 'frequencia_precos'\n",
    "procedimentos_frequencia = frequencia_precos['Procedimento'].unique()\n",
    "\n",
    "# Iterando pelas linhas onde 'Valor' é nulo após o join e completar com os valores correspondentes usando fuzzywuzzy\n",
    "for index, row in frequencia_precos.iterrows():\n",
    "    if pd.isnull(row['Valor']):\n",
    "        procedimento_frequencia = row['Procedimento']\n",
    "        for procedimento_tabelado in procedimentos_tabelados:\n",
    "            similaridade = fuzz.token_sort_ratio(procedimento_frequencia, procedimento_tabelado)\n",
    "            if similaridade >= 80:  # Definir o limite de similaridade desejado\n",
    "                valor_tabelado = precos_tabelados.loc[precos_tabelados['Procedimento'] == procedimento_tabelado, 'Valor'].iloc[0]\n",
    "                # Preencher o valor nulo com o valor correspondente da tabela 'precos_tabelados'\n",
    "                frequencia_precos.at[index, 'Valor'] = valor_tabelado\n",
    "                break\n",
    "\n",
    "# Exibindo o DataFrame 'frequencia_precos' com os valores completados\n",
    "print(frequencia_precos)\n",
    "frequencia_precos_atualizado=frequencia_precos"
   ]
  },
  {
   "cell_type": "markdown",
   "id": "879617a9",
   "metadata": {},
   "source": [
    "# Separando novos pacientess"
   ]
  },
  {
   "cell_type": "code",
   "execution_count": null,
   "id": "c0d75c8c",
   "metadata": {},
   "outputs": [],
   "source": [
    "from datetime import datetime\n",
    "\n",
    "# Converter a coluna 'Criacao do plano' para o formato datetime\n",
    "frequencia_precos['Criacao do plano'] = pd.to_datetime(frequencia_precos['Criacao do plano'], format='%d/%m/%Y')\n",
    "\n",
    "# Ordenar o DataFrame por paciente e data em ordem crescente\n",
    "frequencia_precos.sort_values(by=['Paciente', 'Criacao do plano'], inplace=True)\n",
    "frequencia_precos_com_data=frequencia_precos\n",
    "# Criar uma nova coluna chamada 'Primeira Data de Procedimento' e preenchê-la com a primeira data de cada paciente\n",
    "frequencia_precos_com_data['Primeira Data de Procedimento'] = frequencia_precos_com_data.groupby('Paciente')['Criacao do plano'].transform('min')\n",
    "\n",
    "# Filtrar apenas as linhas com a primeira data no mês de julho de 2023\n",
    "frequencia_precos_com_data = frequencia_precos_com_data[(frequencia_precos_com_data['Primeira Data de Procedimento'].dt.year == 2023) & (frequencia_precos_com_data['Primeira Data de Procedimento'].dt.month == 7)]\n",
    "\n",
    "# Exibir a tabela resultante\n",
    "print(frequencia_precos_com_data)"
   ]
  },
  {
   "cell_type": "markdown",
   "id": "8d296fe9",
   "metadata": {},
   "source": [
    "# Gerando Pivot table dos novos pacientes"
   ]
  },
  {
   "cell_type": "code",
   "execution_count": null,
   "id": "b94bb34a",
   "metadata": {},
   "outputs": [],
   "source": [
    "# Criar a tabela dinâmica (pivot table) com todas as colunas como índices\n",
    "pivot_table_all_index_month = frequencia_precos_com_data.pivot_table(index=['Paciente', 'Criacao do plano', 'Procedimento', 'Status'], \n",
    "                                                     aggfunc='sum',\n",
    "                                                     fill_value=0)\n",
    "\n",
    "# Exibir a tabela dinâmica\n",
    "print(pivot_table_all_index_month)\n"
   ]
  },
  {
   "cell_type": "code",
   "execution_count": 196,
   "id": "1cda2090",
   "metadata": {},
   "outputs": [],
   "source": [
    "pivot_table_all_index_month.to_excel('pivot_pacientes_first_month.xlsx')"
   ]
  },
  {
   "cell_type": "markdown",
   "id": "2f688e8d",
   "metadata": {},
   "source": [
    "# Pivot table geral para pacientes"
   ]
  },
  {
   "cell_type": "code",
   "execution_count": null,
   "id": "ea076ad7",
   "metadata": {},
   "outputs": [],
   "source": [
    "# Criar a tabela dinâmica (pivot table) com todas as colunas como índices\n",
    "pivot_table_all_index = frequencia_precos.pivot_table(index=['Paciente', 'Criacao do plano', 'Procedimento', 'Status'], \n",
    "                                                     aggfunc='sum',\n",
    "                                                     fill_value=0)\n",
    "\n",
    "# Exibir a tabela dinâmica\n",
    "print(pivot_table_all_index)\n"
   ]
  },
  {
   "cell_type": "code",
   "execution_count": null,
   "id": "e06bc909",
   "metadata": {},
   "outputs": [],
   "source": [
    "# Convertendo a coluna 'Criacao do plano' para datetime\n",
    "frequencia_precos['Criacao do plano'] = pd.to_datetime(frequencia_precos['Criacao do plano'])\n",
    "\n",
    "# Criando as colunas 'Ano' e 'Mes'\n",
    "frequencia_precos['Ano'] = frequencia_precos['Criacao do plano'].dt.year\n",
    "frequencia_precos['Mes'] = frequencia_precos['Criacao do plano'].dt.month\n",
    "\n",
    "# Filtrando o DataFrame\n",
    "frequencia_precos_filtrado = frequencia_precos[(frequencia_precos['Ano'] == 2023) & (frequencia_precos['Mes'] == 7) & (frequencia_precos['Status'] == 'Finalizado')]\n",
    "\n",
    "# Criando a tabela dinâmica\n",
    "pivot_table = frequencia_precos_filtrado.pivot_table(index=['Paciente', 'Criacao do plano', 'Procedimento', 'Status'], \n",
    "                                                     aggfunc='sum',\n",
    "                                                     fill_value=0)\n",
    "\n",
    "# Exibindo a tabela dinâmica\n",
    "print(pivot_table)\n"
   ]
  },
  {
   "cell_type": "code",
   "execution_count": 199,
   "id": "38e0dfe0",
   "metadata": {},
   "outputs": [],
   "source": [
    "pivot_table_all_index.to_excel('pivot_pacientes.xlsx')"
   ]
  },
  {
   "cell_type": "code",
   "execution_count": 200,
   "id": "1675c568",
   "metadata": {},
   "outputs": [],
   "source": [
    "# Convertendo a coluna 'Criacao do plano' para datetime\n",
    "frequencia_precos['Criacao do plano'] = pd.to_datetime(frequencia_precos['Criacao do plano'])\n",
    "\n",
    "# Criando as colunas 'Ano' e 'Mes'\n",
    "frequencia_precos['Ano'] = frequencia_precos['Criacao do plano'].dt.year\n",
    "frequencia_precos['Mes'] = frequencia_precos['Criacao do plano'].dt.month\n",
    "\n",
    "# Identificando pacientes que realizaram pelo menos um procedimento em Julho de 2023\n",
    "pacientes_julho_2023 = frequencia_precos[(frequencia_precos['Ano'] == 2023) & (frequencia_precos['Mes'] == 7)]['Paciente'].unique()\n"
   ]
  },
  {
   "cell_type": "code",
   "execution_count": null,
   "id": "ca8039bc",
   "metadata": {},
   "outputs": [],
   "source": [
    "# Filtrando o DataFrame para incluir apenas procedimentos realizados por pacientes identificados\n",
    "frequencia_precos_filtrado = frequencia_precos[frequencia_precos['Paciente'].isin(pacientes_julho_2023) & (frequencia_precos['Status'] == 'Finalizado')]\n",
    "\n",
    "# Criando a tabela dinâmica\n",
    "pivot_table = frequencia_precos_filtrado.pivot_table(index=['Paciente', 'Criacao do plano', 'Procedimento', 'Status'], \n",
    "                                                     aggfunc='sum',\n",
    "                                                     fill_value=0)\n",
    "\n",
    "# Exibindo a tabela dinâmica\n",
    "print(pivot_table)\n",
    "pivot_table.to_excel('pacotes_finalizados_07_2023.xlsx')\n"
   ]
  },
  {
   "cell_type": "markdown",
   "id": "23bfe9e8",
   "metadata": {},
   "source": [
    "\n",
    "\n",
    "\n",
    "\n",
    "# Pivot table para procedimentos"
   ]
  },
  {
   "cell_type": "code",
   "execution_count": null,
   "id": "155809bd",
   "metadata": {},
   "outputs": [],
   "source": [
    "# Criar a tabela dinâmica (pivot table) com todas as colunas como índices\n",
    "pivot_table_all_index_month_procedimentos = frequencia_precos_atualizado.pivot_table(index=['Procedimento', 'Criacao do plano', 'Paciente', 'Status'], \n",
    "                                                     aggfunc='sum',\n",
    "                                                     fill_value=0)\n",
    "\n",
    "# Exibir a tabela dinâmica\n",
    "print(pivot_table_all_index_month_procedimentos)\n",
    "\n",
    "pivot_table_all_index_month_procedimentos.to_excel('pivot_procedimentos.xlsx')\n"
   ]
  },
  {
   "cell_type": "markdown",
   "id": "097cf0a9",
   "metadata": {},
   "source": [
    "# Relatórios mensais (Todos pacientes)"
   ]
  },
  {
   "cell_type": "code",
   "execution_count": 205,
   "id": "6b016ef8",
   "metadata": {},
   "outputs": [],
   "source": [
    "frequencia_precos_atualizado['Criacao do plano'] = pd.to_datetime(frequencia_precos_atualizado['Criacao do plano'], format='%d/%m/%Y')\n",
    "\n",
    "frequencia_precos_atualizado = frequencia_precos_atualizado[\n",
    "    (frequencia_precos_atualizado['Criacao do plano'] >= '2023-06-25') &\n",
    "    (frequencia_precos_atualizado['Criacao do plano'] <= '2023-07-24')\n",
    "]"
   ]
  },
  {
   "cell_type": "code",
   "execution_count": 206,
   "id": "8e93fc4c",
   "metadata": {},
   "outputs": [
    {
     "name": "stderr",
     "output_type": "stream",
     "text": [
      "C:\\Users\\gabri\\AppData\\Local\\Temp\\ipykernel_31532\\112398506.py:2: FutureWarning: pivot_table dropped a column because it failed to aggregate. This behavior is deprecated and will raise in a future version of pandas. Select only the columns that can be aggregated.\n",
      "  pivot_table_all_index_month_todos_pacientes = frequencia_precos_atualizado.pivot_table(index=['Paciente', 'Criacao do plano', 'Procedimento', 'Status'],\n"
     ]
    }
   ],
   "source": [
    "# Criar a tabela dinâmica (pivot table) com todas as colunas como índices\n",
    "pivot_table_all_index_month_todos_pacientes = frequencia_precos_atualizado.pivot_table(index=['Paciente', 'Criacao do plano', 'Procedimento', 'Status'], \n",
    "                                                     aggfunc='sum',\n",
    "                                                     fill_value=0)\n",
    "\n",
    "# Exibir a tabela dinâmica\n",
    "pivot_table_all_index_month_todos_pacientes.to_excel('relatorio_de_pacientes_no_mes.xlsx')\n"
   ]
  },
  {
   "cell_type": "code",
   "execution_count": 207,
   "id": "8a862a50",
   "metadata": {},
   "outputs": [],
   "source": [
    "pivot_procedimentos_relatorio=frequencia_precos_atualizado.pivot_table(index='Procedimento', values=['Sessoes', 'Valor'], aggfunc='sum')"
   ]
  },
  {
   "cell_type": "code",
   "execution_count": 208,
   "id": "f0e20af6",
   "metadata": {},
   "outputs": [],
   "source": [
    "pivot_procedimentos_relatorio.to_excel('tabela_sessoes_lucro_procedimentos_mensais.xlsx')"
   ]
  },
  {
   "cell_type": "markdown",
   "id": "5a384a9e",
   "metadata": {},
   "source": [
    "# Procedimentos realizados no mes por paciente"
   ]
  },
  {
   "cell_type": "code",
   "execution_count": 209,
   "id": "f0931359",
   "metadata": {},
   "outputs": [
    {
     "name": "stderr",
     "output_type": "stream",
     "text": [
      "C:\\Users\\gabri\\AppData\\Local\\Temp\\ipykernel_31532\\2616095150.py:1: FutureWarning: pivot_table dropped a column because it failed to aggregate. This behavior is deprecated and will raise in a future version of pandas. Select only the columns that can be aggregated.\n",
      "  pivot_table_all_index_month = frequencia_precos_atualizado.pivot_table(index=['Paciente', 'Criacao do plano', 'Procedimento', 'Status'],\n"
     ]
    }
   ],
   "source": [
    "pivot_table_all_index_month = frequencia_precos_atualizado.pivot_table(index=['Paciente', 'Criacao do plano', 'Procedimento', 'Status'], \n",
    "                                                     aggfunc='sum',\n",
    "                                                     fill_value=0)\n",
    "pivot_table_all_index_month.to_excel('pivot_pacientes_month.xlsx') "
   ]
  },
  {
   "cell_type": "markdown",
   "id": "43ed9acb",
   "metadata": {},
   "source": [
    "# Procedimentos desejados"
   ]
  },
  {
   "cell_type": "code",
   "execution_count": null,
   "id": "4a351088",
   "metadata": {},
   "outputs": [],
   "source": [
    "import re\n",
    "\n",
    "procedimentos_desejados = [\n",
    "    #\n",
    "]\n",
    "\n",
    "# Criar uma tabela dinâmica para cada procedimento desejado\n",
    "for procedimento in procedimentos_desejados:\n",
    "    # Filtrar o DataFrame 'frequencia_precos_atualizado' para o procedimento atual\n",
    "    df = frequencia_precos_atualizado[frequencia_precos_atualizado['Procedimento'].str.contains(procedimento, case=False, na=False)]\n",
    "    \n",
    "    # Imprimir a tabela dinâmica para o procedimento atual\n",
    "    pivot_table_procedimento = df.pivot_table(index=['Paciente', 'Criacao do plano', 'Procedimento', 'Status'],\n",
    "                                                          aggfunc='sum',\n",
    "                                                          fill_value=0)\n",
    "    nome_arquivo = re.sub(r'[|/\\\\]', '-', procedimento)\n",
    "    pivot_table_procedimento.to_excel(f'{nome_arquivo}.xlsx', index=True)\n",
    "    "
   ]
  }
 ],
 "metadata": {
  "kernelspec": {
   "display_name": "Python 3 (ipykernel)",
   "language": "python",
   "name": "python3"
  },
  "language_info": {
   "codemirror_mode": {
    "name": "ipython",
    "version": 3
   },
   "file_extension": ".py",
   "mimetype": "text/x-python",
   "name": "python",
   "nbconvert_exporter": "python",
   "pygments_lexer": "ipython3",
   "version": "3.9.16"
  }
 },
 "nbformat": 4,
 "nbformat_minor": 5
}
